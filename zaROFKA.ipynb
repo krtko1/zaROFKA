{
  "nbformat": 4,
  "nbformat_minor": 0,
  "metadata": {
    "colab": {
      "provenance": [],
      "authorship_tag": "ABX9TyPmmmkJkJQRVEBWxkMH0Uok",
      "include_colab_link": true
    },
    "kernelspec": {
      "name": "python3",
      "display_name": "Python 3"
    },
    "language_info": {
      "name": "python"
    }
  },
  "cells": [
    {
      "cell_type": "markdown",
      "metadata": {
        "id": "view-in-github",
        "colab_type": "text"
      },
      "source": [
        "<a href=\"https://colab.research.google.com/github/krtko1/zaROFKA/blob/master/zaROFKA.ipynb\" target=\"_parent\"><img src=\"https://colab.research.google.com/assets/colab-badge.svg\" alt=\"Open In Colab\"/></a>"
      ]
    },
    {
      "cell_type": "markdown",
      "source": [
        "# Project žáROFKA\n",
        "\n",
        "Eurostat má niekoľko tabuliek, ktoré porovnávajú prístup k voľnočasovým aktivitám a spoločenským interakciám v rôznych krajinách Európy a vzhľadom na rôzne ukazovatele ako sú vek, pohlavie, vzdelianie, príjem a podobne. Skúste vizualizovať závislosti medzi týmito typmi veličín. Tabuľky nájdete v sekcii Leisure and social interaction."
      ],
      "metadata": {
        "id": "jvF7Xg-cEO7e"
      }
    },
    {
      "cell_type": "code",
      "execution_count": 1,
      "metadata": {
        "id": "zKF46EoFEKjd"
      },
      "outputs": [],
      "source": [
        "import numpy as np\n",
        "import pandas as pd\n",
        "from IPython.display import Markdown\n",
        "import matplotlib.pyplot as plt\n",
        "import seaborn as sns"
      ]
    },
    {
      "cell_type": "markdown",
      "source": [
        "## Import of data\n",
        "\n",
        "* Leisure and social interactions (qol_lei)\n",
        "  * Leisure (qol_lei_le)\n",
        "    * Quantity of leisure (qol_lei_qnt)\n",
        " \t    * Participation in any cultural or sport activities in the last 12 months by sex, age and educational attainment level (ilc_scp01)\n",
        " \t    * Participation in any cultural or sport activities in the last 12 months by income quintile, household type and degree of urbanisation (ilc_scp02)\n",
        " \t    * Frequency of participation in cultural or sport activities in the last 12 months by sex, age, educational attainment level and activity type (ilc_scp03)\n",
        " \t    * Frequency of participation in cultural or sport activities in the last 12 months by income quintile, household type, degree of urbanisation and activity type (ilc_scp04)\n",
        " \t    * Time spent, participation time and participation rate in the main activity by sex and educational attainment level (tus_00educ)\n",
        "    * Quality of leisure (qol_lei_qlt)\n",
        " \t    * Average rating of satisfaction by domain, sex, age and educational attainment level (ilc_pw01)\t  UPDATED\n",
        " \t    * Percentage of the population rating their satisfaction as high, medium or low by domain, sex, age and educational attainment level (ilc_pw05)\n",
        "    * Access to leisure (qol_lei_acc)\n",
        " \t    * Reasons of non-participation in cultural or sport activities in the last 12 months by sex, age, educational attainment level and activity type (ilc_scp05)\n",
        " \t    * Reasons of non-participation in cultural or sport activities in the last 12 months by income quintile, household type, degree of urbanisation and activity type (ilc_scp06)\n",
        "  * Social interactions (qol_lei_soc)\n",
        "    * Relations with people (qol_soc_rp)\n",
        " \t    * Frequency of getting together with family and relatives or friends by sex, age and educational attainment level (ilc_scp09)\n",
        " \t    * Frequency of getting together with family and relatives or friends by income quintile, household type and degree of urbanisation (ilc_scp10)\n",
        " \t    * Frequency of contacts with family and relatives or friends by sex, age and educational attainment level (ilc_scp11)\n",
        " \t    * Frequency of contacts with family and relatives or friends by income quintile, household type and degree of urbanisation (ilc_scp12)\n",
        "    * Activities for people (qol_soc_ap)\n",
        " \t    * Participation in formal or informal voluntary activities or active citizenship by sex, age and educational attainment level (ilc_scp19)\n",
        " \t    * Participation in formal or informal voluntary activities, or active citizenship by income quintile, household type and degree of urbanisation (ilc_scp20)\n",
        " \t    * Reasons of non-participation in formal or informal voluntary activities, active citizenship in the last 12 months by sex, age and educational attainment level (ilc_scp21)\n",
        " \t    * Reasons of non-participation in formal or informal voluntary activities, active citizenship in the last 12 months by income quintile, household type and degree of urbanisation (ilc_scp22)\n",
        "    * Social support (qol_soc_ss)\n",
        " \t    * Persons who have someone to ask for help by sex, age and educational attainment level (ilc_scp15)\n",
        " \t    * Persons who have someone to discuss personal matters by sex, age and educational attainment level (ilc_scp17)\n",
        "    * Social cohesion (qol_soc_sc)\n",
        " \t    * Average rating of trust by domain, sex, age and educational attainment level (ilc_pw03)\n"
      ],
      "metadata": {
        "id": "1TsWAQeZErHz"
      }
    },
    {
      "cell_type": "code",
      "source": [
        "ilc_pw01 = pd.read_csv('https://github.com/krtko1/zaROFKA/raw/master/data/estat_ilc_pw01.tsv', sep=r'[\\t,]|\\\\TIME_PERIOD\\t', na_values=[': ',':'], engine='python')\n",
        "ilc_pw03 = pd.read_csv('https://github.com/krtko1/zaROFKA/raw/master/data/estat_ilc_pw03.tsv', sep=r'[\\t,]|\\\\TIME_PERIOD\\t', na_values=[': ',':'], engine='python')\n",
        "ilc_pw05 = pd.read_csv('https://github.com/krtko1/zaROFKA/raw/master/data/estat_ilc_pw05.tsv', sep=r'[\\t,]|\\\\TIME_PERIOD\\t', na_values=[': ',':'], engine='python')\n",
        "ilc_scp01 = pd.read_csv('https://github.com/krtko1/zaROFKA/raw/master/data/estat_ilc_scp01.tsv', sep=r'[\\t,]|\\\\TIME_PERIOD\\t', na_values=[': ',':'], engine='python')\n",
        "ilc_scp02 = pd.read_csv('https://github.com/krtko1/zaROFKA/raw/master/data/estat_ilc_scp02.tsv', sep=r'[\\t,]|\\\\TIME_PERIOD\\t', na_values=[': ',':'], engine='python')\n",
        "ilc_scp03 = pd.read_csv('https://github.com/krtko1/zaROFKA/raw/master/data/estat_ilc_scp03.tsv', sep=r'[\\t,]|\\\\TIME_PERIOD\\t', na_values=[': ',':'], engine='python')\n",
        "ilc_scp04 = pd.read_csv('https://github.com/krtko1/zaROFKA/raw/master/data/estat_ilc_scp04.tsv', sep=r'[\\t,]|\\\\TIME_PERIOD\\t', na_values=[': ',':'], engine='python')\n",
        "ilc_scp05 = pd.read_csv('https://github.com/krtko1/zaROFKA/raw/master/data/estat_ilc_scp05.tsv', sep=r'[\\t,]|\\\\TIME_PERIOD\\t', na_values=[': ',':'], engine='python')\n",
        "ilc_scp06 = pd.read_csv('https://github.com/krtko1/zaROFKA/raw/master/data/estat_ilc_scp06.tsv', sep=r'[\\t,]|\\\\TIME_PERIOD\\t', na_values=[': ',':'], engine='python')\n",
        "ilc_scp09 = pd.read_csv('https://github.com/krtko1/zaROFKA/raw/master/data/estat_ilc_scp09.tsv', sep=r'[\\t,]|\\\\TIME_PERIOD\\t', na_values=[': ',':'], engine='python')\n",
        "ilc_scp10 = pd.read_csv('https://github.com/krtko1/zaROFKA/raw/master/data/estat_ilc_scp10.tsv', sep=r'[\\t,]|\\\\TIME_PERIOD\\t', na_values=[': ',':'], engine='python')\n",
        "ilc_scp11 = pd.read_csv('https://github.com/krtko1/zaROFKA/raw/master/data/estat_ilc_scp11.tsv', sep=r'[\\t,]|\\\\TIME_PERIOD\\t', na_values=[': ',':'], engine='python')\n",
        "ilc_scp12 = pd.read_csv('https://github.com/krtko1/zaROFKA/raw/master/data/estat_ilc_scp12.tsv', sep=r'[\\t,]|\\\\TIME_PERIOD\\t', na_values=[': ',':'], engine='python')\n",
        "ilc_scp15 = pd.read_csv('https://github.com/krtko1/zaROFKA/raw/master/data/estat_ilc_scp15.tsv', sep=r'[\\t,]|\\\\TIME_PERIOD\\t', na_values=[': ',':'], engine='python')\n",
        "ilc_scp17 = pd.read_csv('https://github.com/krtko1/zaROFKA/raw/master/data/estat_ilc_scp17.tsv', sep=r'[\\t,]|\\\\TIME_PERIOD\\t', na_values=[': ',':'], engine='python')\n",
        "ilc_scp19 = pd.read_csv('https://github.com/krtko1/zaROFKA/raw/master/data/estat_ilc_scp19.tsv', sep=r'[\\t,]|\\\\TIME_PERIOD\\t', na_values=[': ',':'], engine='python')\n",
        "ilc_scp20 = pd.read_csv('https://github.com/krtko1/zaROFKA/raw/master/data/estat_ilc_scp20.tsv', sep=r'[\\t,]|\\\\TIME_PERIOD\\t', na_values=[': ',':'], engine='python')\n",
        "ilc_scp21 = pd.read_csv('https://github.com/krtko1/zaROFKA/raw/master/data/estat_ilc_scp21.tsv', sep=r'[\\t,]|\\\\TIME_PERIOD\\t', na_values=[': ',':'], engine='python')\n",
        "ilc_scp22 = pd.read_csv('https://github.com/krtko1/zaROFKA/raw/master/data/estat_ilc_scp22.tsv', sep=r'[\\t,]|\\\\TIME_PERIOD\\t', na_values=[': ',':'], engine='python')\n",
        "tus_00educ = pd.read_csv('https://github.com/krtko1/zaROFKA/raw/master/data/estat_tus_00educ.tsv', sep=r'[\\t,]|\\\\TIME_PERIOD\\t', na_values=[': ',':'], engine='python')"
      ],
      "metadata": {
        "id": "4LvxMYQ7EvQJ"
      },
      "execution_count": 26,
      "outputs": []
    }
  ]
}